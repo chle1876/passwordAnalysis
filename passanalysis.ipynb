{
 "cells": [
  {
   "cell_type": "code",
   "execution_count": 109,
   "metadata": {},
   "outputs": [],
   "source": [
    "import scipy as sp\n",
    "from scipy import stats\n",
    "import numpy as np\n",
    "import pandas as pd\n",
    "import re"
   ]
  },
  {
   "cell_type": "code",
   "execution_count": 73,
   "metadata": {},
   "outputs": [],
   "source": [
    "df = pd.read_excel(\"passwords.xlsx\", names = [\"Passwords\"])"
   ]
  },
  {
   "cell_type": "code",
   "execution_count": 74,
   "metadata": {},
   "outputs": [
    {
     "data": {
      "text/html": [
       "<div>\n",
       "<style scoped>\n",
       "    .dataframe tbody tr th:only-of-type {\n",
       "        vertical-align: middle;\n",
       "    }\n",
       "\n",
       "    .dataframe tbody tr th {\n",
       "        vertical-align: top;\n",
       "    }\n",
       "\n",
       "    .dataframe thead th {\n",
       "        text-align: right;\n",
       "    }\n",
       "</style>\n",
       "<table border=\"1\" class=\"dataframe\">\n",
       "  <thead>\n",
       "    <tr style=\"text-align: right;\">\n",
       "      <th></th>\n",
       "      <th>Passwords</th>\n",
       "    </tr>\n",
       "  </thead>\n",
       "  <tbody>\n",
       "    <tr>\n",
       "      <th>0</th>\n",
       "      <td>password</td>\n",
       "    </tr>\n",
       "    <tr>\n",
       "      <th>1</th>\n",
       "      <td>12345678</td>\n",
       "    </tr>\n",
       "    <tr>\n",
       "      <th>2</th>\n",
       "      <td>qwerty</td>\n",
       "    </tr>\n",
       "    <tr>\n",
       "      <th>3</th>\n",
       "      <td>123456789</td>\n",
       "    </tr>\n",
       "    <tr>\n",
       "      <th>4</th>\n",
       "      <td>12345</td>\n",
       "    </tr>\n",
       "  </tbody>\n",
       "</table>\n",
       "</div>"
      ],
      "text/plain": [
       "   Passwords\n",
       "0   password\n",
       "1   12345678\n",
       "2     qwerty\n",
       "3  123456789\n",
       "4      12345"
      ]
     },
     "execution_count": 74,
     "metadata": {},
     "output_type": "execute_result"
    }
   ],
   "source": [
    "\n",
    "df.head()"
   ]
  },
  {
   "cell_type": "code",
   "execution_count": 186,
   "metadata": {},
   "outputs": [],
   "source": [
    "prepasses = np.array(df['Passwords'])\n",
    "passes = []\n",
    "for xx in range(0,len(prepasses)):\n",
    "    if(len(str(prepasses[xx])) >= 8):\n",
    "        passes.append(prepasses[xx])\n",
    "passes = np.array(passes)\n",
    "df = pd.DataFrame(passes)"
   ]
  },
  {
   "cell_type": "code",
   "execution_count": 182,
   "metadata": {},
   "outputs": [],
   "source": [
    "def charCount(passes):\n",
    "    lengthFreqs = [0]*100\n",
    "    lengths = []\n",
    "    for xx in range(0,len(passes)):\n",
    "        l = len(str(passes[xx]))\n",
    "        lengths.append(l)\n",
    "    return lengths\n"
   ]
  },
  {
   "cell_type": "code",
   "execution_count": 183,
   "metadata": {},
   "outputs": [
    {
     "data": {
      "text/html": [
       "<div>\n",
       "<style scoped>\n",
       "    .dataframe tbody tr th:only-of-type {\n",
       "        vertical-align: middle;\n",
       "    }\n",
       "\n",
       "    .dataframe tbody tr th {\n",
       "        vertical-align: top;\n",
       "    }\n",
       "\n",
       "    .dataframe thead th {\n",
       "        text-align: right;\n",
       "    }\n",
       "</style>\n",
       "<table border=\"1\" class=\"dataframe\">\n",
       "  <thead>\n",
       "    <tr style=\"text-align: right;\">\n",
       "      <th></th>\n",
       "      <th>Passwords</th>\n",
       "    </tr>\n",
       "  </thead>\n",
       "  <tbody>\n",
       "    <tr>\n",
       "      <th>0</th>\n",
       "      <td>password</td>\n",
       "    </tr>\n",
       "    <tr>\n",
       "      <th>1</th>\n",
       "      <td>12345678</td>\n",
       "    </tr>\n",
       "    <tr>\n",
       "      <th>2</th>\n",
       "      <td>qwerty</td>\n",
       "    </tr>\n",
       "    <tr>\n",
       "      <th>3</th>\n",
       "      <td>123456789</td>\n",
       "    </tr>\n",
       "    <tr>\n",
       "      <th>4</th>\n",
       "      <td>12345</td>\n",
       "    </tr>\n",
       "  </tbody>\n",
       "</table>\n",
       "</div>"
      ],
      "text/plain": [
       "   Passwords\n",
       "0   password\n",
       "1   12345678\n",
       "2     qwerty\n",
       "3  123456789\n",
       "4      12345"
      ]
     },
     "execution_count": 183,
     "metadata": {},
     "output_type": "execute_result"
    }
   ],
   "source": [
    "df.head()"
   ]
  },
  {
   "cell_type": "code",
   "execution_count": 187,
   "metadata": {},
   "outputs": [],
   "source": [
    "lengths = np.array(charCount(passes))\n",
    "dfwPasswords = df.assign(charCount=lengths)"
   ]
  },
  {
   "cell_type": "code",
   "execution_count": 188,
   "metadata": {},
   "outputs": [
    {
     "data": {
      "text/html": [
       "<div>\n",
       "<style scoped>\n",
       "    .dataframe tbody tr th:only-of-type {\n",
       "        vertical-align: middle;\n",
       "    }\n",
       "\n",
       "    .dataframe tbody tr th {\n",
       "        vertical-align: top;\n",
       "    }\n",
       "\n",
       "    .dataframe thead th {\n",
       "        text-align: right;\n",
       "    }\n",
       "</style>\n",
       "<table border=\"1\" class=\"dataframe\">\n",
       "  <thead>\n",
       "    <tr style=\"text-align: right;\">\n",
       "      <th></th>\n",
       "      <th>0</th>\n",
       "      <th>charCount</th>\n",
       "    </tr>\n",
       "  </thead>\n",
       "  <tbody>\n",
       "    <tr>\n",
       "      <th>0</th>\n",
       "      <td>password</td>\n",
       "      <td>8</td>\n",
       "    </tr>\n",
       "    <tr>\n",
       "      <th>1</th>\n",
       "      <td>12345678</td>\n",
       "      <td>8</td>\n",
       "    </tr>\n",
       "    <tr>\n",
       "      <th>2</th>\n",
       "      <td>123456789</td>\n",
       "      <td>9</td>\n",
       "    </tr>\n",
       "    <tr>\n",
       "      <th>3</th>\n",
       "      <td>baseball</td>\n",
       "      <td>8</td>\n",
       "    </tr>\n",
       "    <tr>\n",
       "      <th>4</th>\n",
       "      <td>football</td>\n",
       "      <td>8</td>\n",
       "    </tr>\n",
       "  </tbody>\n",
       "</table>\n",
       "</div>"
      ],
      "text/plain": [
       "           0  charCount\n",
       "0   password          8\n",
       "1   12345678          8\n",
       "2  123456789          9\n",
       "3   baseball          8\n",
       "4   football          8"
      ]
     },
     "execution_count": 188,
     "metadata": {},
     "output_type": "execute_result"
    }
   ],
   "source": [
    "dfwPasswords.head()"
   ]
  },
  {
   "cell_type": "code",
   "execution_count": 189,
   "metadata": {},
   "outputs": [
    {
     "name": "stderr",
     "output_type": "stream",
     "text": [
      "C:\\Users\\clewis\\AppData\\Local\\Continuum\\anaconda3\\lib\\site-packages\\ipykernel_launcher.py:1: DeprecationWarning: `itemfreq` is deprecated!\n",
      "`itemfreq` is deprecated and will be removed in a future version. Use instead `np.unique(..., return_counts=True)`\n",
      "  \"\"\"Entry point for launching an IPython kernel.\n"
     ]
    }
   ],
   "source": [
    "dfCharFreq = pd.DataFrame(stats.itemfreq(lengths),columns=['Length','Frequency'])"
   ]
  },
  {
   "cell_type": "code",
   "execution_count": 200,
   "metadata": {
    "scrolled": true
   },
   "outputs": [],
   "source": [
    "\n",
    "percentages = []\n",
    "\n",
    "tot = dfCharFreq['Frequency'].sum()\n",
    "for item in dfCharFreq['Frequency']:\n",
    "    percentages.append(\"{0:.4f}%\".format((item/tot) * 100))\n",
    "\n",
    "dfCharFreq = dfCharFreq.assign(percents = np.array(percentages))"
   ]
  },
  {
   "cell_type": "code",
   "execution_count": 205,
   "metadata": {},
   "outputs": [
    {
     "data": {
      "text/html": [
       "<div>\n",
       "<style scoped>\n",
       "    .dataframe tbody tr th:only-of-type {\n",
       "        vertical-align: middle;\n",
       "    }\n",
       "\n",
       "    .dataframe tbody tr th {\n",
       "        vertical-align: top;\n",
       "    }\n",
       "\n",
       "    .dataframe thead th {\n",
       "        text-align: right;\n",
       "    }\n",
       "</style>\n",
       "<table border=\"1\" class=\"dataframe\">\n",
       "  <thead>\n",
       "    <tr style=\"text-align: right;\">\n",
       "      <th></th>\n",
       "      <th>Length</th>\n",
       "      <th>Frequency</th>\n",
       "      <th>percents</th>\n",
       "    </tr>\n",
       "  </thead>\n",
       "  <tbody>\n",
       "    <tr>\n",
       "      <th>0</th>\n",
       "      <td>8</td>\n",
       "      <td>296129</td>\n",
       "      <td>61.7070%</td>\n",
       "    </tr>\n",
       "    <tr>\n",
       "      <th>1</th>\n",
       "      <td>9</td>\n",
       "      <td>69594</td>\n",
       "      <td>14.5019%</td>\n",
       "    </tr>\n",
       "    <tr>\n",
       "      <th>2</th>\n",
       "      <td>10</td>\n",
       "      <td>46431</td>\n",
       "      <td>9.6752%</td>\n",
       "    </tr>\n",
       "    <tr>\n",
       "      <th>3</th>\n",
       "      <td>11</td>\n",
       "      <td>22425</td>\n",
       "      <td>4.6729%</td>\n",
       "    </tr>\n",
       "    <tr>\n",
       "      <th>4</th>\n",
       "      <td>12</td>\n",
       "      <td>15846</td>\n",
       "      <td>3.3020%</td>\n",
       "    </tr>\n",
       "    <tr>\n",
       "      <th>5</th>\n",
       "      <td>13</td>\n",
       "      <td>12725</td>\n",
       "      <td>2.6516%</td>\n",
       "    </tr>\n",
       "    <tr>\n",
       "      <th>6</th>\n",
       "      <td>14</td>\n",
       "      <td>5785</td>\n",
       "      <td>1.2055%</td>\n",
       "    </tr>\n",
       "    <tr>\n",
       "      <th>7</th>\n",
       "      <td>15</td>\n",
       "      <td>3811</td>\n",
       "      <td>0.7941%</td>\n",
       "    </tr>\n",
       "    <tr>\n",
       "      <th>8</th>\n",
       "      <td>16</td>\n",
       "      <td>2761</td>\n",
       "      <td>0.5753%</td>\n",
       "    </tr>\n",
       "    <tr>\n",
       "      <th>11</th>\n",
       "      <td>19</td>\n",
       "      <td>1684</td>\n",
       "      <td>0.3509%</td>\n",
       "    </tr>\n",
       "  </tbody>\n",
       "</table>\n",
       "</div>"
      ],
      "text/plain": [
       "    Length  Frequency  percents\n",
       "0        8     296129  61.7070%\n",
       "1        9      69594  14.5019%\n",
       "2       10      46431   9.6752%\n",
       "3       11      22425   4.6729%\n",
       "4       12      15846   3.3020%\n",
       "5       13      12725   2.6516%\n",
       "6       14       5785   1.2055%\n",
       "7       15       3811   0.7941%\n",
       "8       16       2761   0.5753%\n",
       "11      19       1684   0.3509%"
      ]
     },
     "execution_count": 205,
     "metadata": {},
     "output_type": "execute_result"
    }
   ],
   "source": [
    "dfTop = dfCharFreq.sort_values(by='Frequency',ascending = False)\n",
    "dfTop.head(10)"
   ]
  },
  {
   "cell_type": "code",
   "execution_count": 192,
   "metadata": {},
   "outputs": [],
   "source": [
    "def lettersymbol(passes):\n",
    "    tot = len(passes)\n",
    "    number = 0\n",
    "    isValid = False\n",
    "    for item in passes:\n",
    "        item = str(item)\n",
    "        if(bool(re.search(r'\\d',item)) == False):\n",
    "            if(bool(re.search('[a-zA-Z]', item)) == True):\n",
    "                if(item.isalpha() == False):\n",
    "                    isValid = True\n",
    "        if(isValid):\n",
    "            number += 1\n",
    "        isValid = False\n",
    "    return number,tot\n",
    "\n",
    "def letternumber(passes):\n",
    "    tot = len(passes)\n",
    "    number = 0\n",
    "    isValid = False\n",
    "    for item in passes:\n",
    "        item = str(item)\n",
    "        if(bool(re.search(r'\\d',item)) == True):\n",
    "            if(bool(re.search('[a-zA-Z]', item)) == True):\n",
    "                if(item.isalnum() == True):\n",
    "                    isValid = True\n",
    "        if(isValid):\n",
    "            number += 1\n",
    "        isValid = False\n",
    "    return number,tot\n",
    "\n",
    "def numbersymbol(passes):\n",
    "    tot = len(passes)\n",
    "    number = 0\n",
    "    isValid = False\n",
    "    for item in passes:\n",
    "        item = str(item)\n",
    "        if(bool(re.search(r'\\d',item)) == True):\n",
    "            if(bool(re.search('[a-zA-Z]', item)) == False):\n",
    "                if(item.isdigit() == False):\n",
    "                    isValid = True\n",
    "        if(isValid):\n",
    "            number += 1\n",
    "        isValid = False\n",
    "    return number,tot\n",
    "\n",
    "def symbol(passes):\n",
    "    tot = len(passes)\n",
    "    number = 0\n",
    "    isValid = False\n",
    "    for item in passes:\n",
    "        item = str(item)\n",
    "        if(bool(re.search(r'\\d',item)) == False):\n",
    "            if(bool(re.search('[a-zA-Z]', item)) == False):\n",
    "                isValid = True\n",
    "        if(isValid):\n",
    "            number += 1\n",
    "        isValid = False\n",
    "    return number,tot\n",
    "\n",
    "def letter(passes):\n",
    "    tot = len(passes)\n",
    "    number = 0\n",
    "    isValid = False\n",
    "    for item in passes:\n",
    "        item = str(item)\n",
    "        if(bool(re.search(r'\\d',item)) == False):\n",
    "            if(bool(re.search('[a-zA-Z]', item)) == True):\n",
    "                if(item.isalpha() == True):\n",
    "                    isValid = True\n",
    "        if(isValid):\n",
    "            number += 1\n",
    "        isValid = False\n",
    "    return number,tot\n",
    "\n",
    "def number(passes):\n",
    "    tot = len(passes)\n",
    "    number = 0\n",
    "    isValid = False\n",
    "    for item in passes:\n",
    "        item = str(item)\n",
    "        if(bool(re.search(r'\\d',item)) == True):\n",
    "            if(bool(re.search('[a-zA-Z]', item)) == False):\n",
    "                if(item.isdigit() == True):\n",
    "                    isValid = True\n",
    "        if(isValid):\n",
    "            number += 1\n",
    "        isValid = False\n",
    "    return number,tot\n",
    "\n",
    "def hasall(passes):\n",
    "    tot = len(passes)\n",
    "    number = 0\n",
    "    isValid = False\n",
    "    for item in passes:\n",
    "        item = str(item)\n",
    "        if(bool(re.search(r'\\d',item)) == True):\n",
    "            if(bool(re.search('[a-zA-Z]', item)) == True):\n",
    "                if(item.isalnum() == False):\n",
    "                    isValid = True\n",
    "        if(isValid):\n",
    "            number += 1\n",
    "        isValid = False\n",
    "    return number,tot"
   ]
  },
  {
   "cell_type": "code",
   "execution_count": null,
   "metadata": {},
   "outputs": [],
   "source": []
  },
  {
   "cell_type": "code",
   "execution_count": 193,
   "metadata": {},
   "outputs": [
    {
     "name": "stdout",
     "output_type": "stream",
     "text": [
      "0.80% of Passwords contain a letter and a symbol, but no number\n",
      "54.18% of Passwords contain a letter and a Number, but no symbol\n",
      "0.28% of Passwords contain a symbol and a Number, but no letter\n"
     ]
    }
   ],
   "source": [
    "num, tot = lettersymbol(passes)\n",
    "print(\"{0:.2f}% of Passwords contain a letter and a symbol, but no number\".format(num/tot * 100))\n",
    "num, tot = letternumber(passes)\n",
    "print(\"{0:.2f}% of Passwords contain a letter and a Number, but no symbol\".format(num/tot * 100))\n",
    "num, tot = numbersymbol(passes)\n",
    "print(\"{0:.2f}% of Passwords contain a symbol and a Number, but no letter\".format(num/tot * 100))"
   ]
  },
  {
   "cell_type": "code",
   "execution_count": 194,
   "metadata": {},
   "outputs": [
    {
     "name": "stdout",
     "output_type": "stream",
     "text": [
      "0.001042% of Passwords contain only symbols\n",
      "35.22% of Passwords contain only letters\n",
      "8.73% of Passwords contain only numbers\n"
     ]
    }
   ],
   "source": [
    "num, tot = symbol(passes)\n",
    "print(\"{0:.6f}% of Passwords contain only symbols\".format(num/tot * 100))\n",
    "num, tot = letter(passes)\n",
    "print(\"{0:.2f}% of Passwords contain only letters\".format(num/tot * 100))\n",
    "num, tot = number(passes)\n",
    "print(\"{0:.2f}% of Passwords contain only numbers\".format(num/tot * 100))"
   ]
  },
  {
   "cell_type": "code",
   "execution_count": 195,
   "metadata": {},
   "outputs": [
    {
     "name": "stdout",
     "output_type": "stream",
     "text": [
      "0.79% of Passwords contain all constraints\n"
     ]
    }
   ],
   "source": [
    "num, tot = hasall(passes)\n",
    "print(\"{0:.2f}% of Passwords contain all constraints\".format(num/tot * 100))"
   ]
  },
  {
   "cell_type": "code",
   "execution_count": 223,
   "metadata": {},
   "outputs": [
    {
     "name": "stdout",
     "output_type": "stream",
     "text": [
      "(array(['GoodBye', 'Hello'], dtype='<U7'), array([1, 2], dtype=int64))\n"
     ]
    }
   ],
   "source": [
    "val = [\"Hello\",\"GoodBye\",\"Hello\"]\n",
    "#print(stats.itemfreq(val))\n",
    "valfreq = np.unique(val,return_counts=True)\n",
    "print(valfreq)"
   ]
  },
  {
   "cell_type": "code",
   "execution_count": null,
   "metadata": {},
   "outputs": [],
   "source": []
  }
 ],
 "metadata": {
  "kernelspec": {
   "display_name": "Python 3",
   "language": "python",
   "name": "python3"
  },
  "language_info": {
   "codemirror_mode": {
    "name": "ipython",
    "version": 3
   },
   "file_extension": ".py",
   "mimetype": "text/x-python",
   "name": "python",
   "nbconvert_exporter": "python",
   "pygments_lexer": "ipython3",
   "version": "3.6.5"
  }
 },
 "nbformat": 4,
 "nbformat_minor": 2
}
